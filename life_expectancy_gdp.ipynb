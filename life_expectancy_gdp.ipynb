{
  "nbformat": 4,
  "nbformat_minor": 0,
  "metadata": {
    "kernelspec": {
      "display_name": "Python 3",
      "language": "python",
      "name": "python3"
    },
    "language_info": {
      "codemirror_mode": {
        "name": "ipython",
        "version": 3
      },
      "file_extension": ".py",
      "mimetype": "text/x-python",
      "name": "python",
      "nbconvert_exporter": "python",
      "pygments_lexer": "ipython3",
      "version": "3.7.6"
    },
    "colab": {
      "name": "life_expectancy_gdp.ipynb",
      "provenance": [],
      "collapsed_sections": [],
      "include_colab_link": true
    }
  },
  "cells": [
    {
      "cell_type": "markdown",
      "metadata": {
        "id": "view-in-github",
        "colab_type": "text"
      },
      "source": [
        "<a href=\"https://colab.research.google.com/github/RhoGitHub754/Life-Expectancy-and-GDP/blob/main/life_expectancy_gdp.ipynb\" target=\"_parent\"><img src=\"https://colab.research.google.com/assets/colab-badge.svg\" alt=\"Open In Colab\"/></a>"
      ]
    },
    {
      "cell_type": "markdown",
      "metadata": {
        "id": "97w7xm8y2aNP"
      },
      "source": [
        "# Life Expectancy and GDP\n",
        "\n",
        "\n",
        "---\n",
        "\n",
        "\n",
        "\n"
      ]
    },
    {
      "cell_type": "code",
      "metadata": {
        "colab": {
          "base_uri": "https://localhost:8080/"
        },
        "id": "c0ycTJlj15kn",
        "outputId": "60602234-9ac3-453a-c7f3-b85eac74cda0"
      },
      "source": [
        "from google.colab import drive\n",
        "drive.mount('/content/drive')"
      ],
      "execution_count": 1,
      "outputs": [
        {
          "output_type": "stream",
          "text": [
            "Mounted at /content/drive\n"
          ],
          "name": "stdout"
        }
      ]
    },
    {
      "cell_type": "code",
      "metadata": {
        "id": "gIOkXxtO1Wdk"
      },
      "source": [
        "import pandas as pd\n",
        "from matplotlib import pyplot as plt\n",
        "import seaborn as sns\n",
        "import numpy as np\n",
        "pd.set_option('display.float_format', lambda x: '%.5f' % x)"
      ],
      "execution_count": 2,
      "outputs": []
    },
    {
      "cell_type": "markdown",
      "metadata": {
        "id": "BG6IXY2U3C2j"
      },
      "source": [
        "## Load the Data\n",
        "You have been given one CSV file, all_data.csv which contains data on GDP and life expectancy within different countries.\n",
        "\n",
        "Open all_data.csv with pandas.\n",
        "\n",
        "The dataset provided has the following columns of data:\n",
        "\n",
        "**Country** - nation\n",
        "\n",
        "**Year** - the year for the observation\n",
        "\n",
        "**Life** expectancy at birth (years) - life expectancy value in years\n",
        "\n",
        "**GDP** - Gross Domestic Product in U.S. dollars"
      ]
    },
    {
      "cell_type": "code",
      "metadata": {
        "colab": {
          "base_uri": "https://localhost:8080/",
          "height": 204
        },
        "id": "agpWyBhz3CKH",
        "outputId": "3ad87385-e165-48cf-cafd-21110521702e"
      },
      "source": [
        "df = pd.read_csv('/content/drive/MyDrive/Colab Notebooks/Codecademy - Data Analyst Portfolio/Life-Expectancy-and-GDP-Starter/all_data.csv')\n",
        "df.head()"
      ],
      "execution_count": 31,
      "outputs": [
        {
          "output_type": "execute_result",
          "data": {
            "text/html": [
              "<div>\n",
              "<style scoped>\n",
              "    .dataframe tbody tr th:only-of-type {\n",
              "        vertical-align: middle;\n",
              "    }\n",
              "\n",
              "    .dataframe tbody tr th {\n",
              "        vertical-align: top;\n",
              "    }\n",
              "\n",
              "    .dataframe thead th {\n",
              "        text-align: right;\n",
              "    }\n",
              "</style>\n",
              "<table border=\"1\" class=\"dataframe\">\n",
              "  <thead>\n",
              "    <tr style=\"text-align: right;\">\n",
              "      <th></th>\n",
              "      <th>Country</th>\n",
              "      <th>Year</th>\n",
              "      <th>Life expectancy at birth (years)</th>\n",
              "      <th>GDP</th>\n",
              "    </tr>\n",
              "  </thead>\n",
              "  <tbody>\n",
              "    <tr>\n",
              "      <th>0</th>\n",
              "      <td>Chile</td>\n",
              "      <td>2000</td>\n",
              "      <td>77.30000</td>\n",
              "      <td>77860932152.00000</td>\n",
              "    </tr>\n",
              "    <tr>\n",
              "      <th>1</th>\n",
              "      <td>Chile</td>\n",
              "      <td>2001</td>\n",
              "      <td>77.30000</td>\n",
              "      <td>70979923960.00000</td>\n",
              "    </tr>\n",
              "    <tr>\n",
              "      <th>2</th>\n",
              "      <td>Chile</td>\n",
              "      <td>2002</td>\n",
              "      <td>77.80000</td>\n",
              "      <td>69736811435.00000</td>\n",
              "    </tr>\n",
              "    <tr>\n",
              "      <th>3</th>\n",
              "      <td>Chile</td>\n",
              "      <td>2003</td>\n",
              "      <td>77.90000</td>\n",
              "      <td>75643459840.00000</td>\n",
              "    </tr>\n",
              "    <tr>\n",
              "      <th>4</th>\n",
              "      <td>Chile</td>\n",
              "      <td>2004</td>\n",
              "      <td>78.00000</td>\n",
              "      <td>99210392858.00000</td>\n",
              "    </tr>\n",
              "  </tbody>\n",
              "</table>\n",
              "</div>"
            ],
            "text/plain": [
              "  Country  Year  Life expectancy at birth (years)               GDP\n",
              "0   Chile  2000                          77.30000 77860932152.00000\n",
              "1   Chile  2001                          77.30000 70979923960.00000\n",
              "2   Chile  2002                          77.80000 69736811435.00000\n",
              "3   Chile  2003                          77.90000 75643459840.00000\n",
              "4   Chile  2004                          78.00000 99210392858.00000"
            ]
          },
          "metadata": {},
          "execution_count": 31
        }
      ]
    },
    {
      "cell_type": "code",
      "metadata": {
        "colab": {
          "base_uri": "https://localhost:8080/"
        },
        "id": "idiLtyCScA-T",
        "outputId": "cce3b76d-3258-4828-d98d-7ace0cda3355"
      },
      "source": [
        "df.columns"
      ],
      "execution_count": 32,
      "outputs": [
        {
          "output_type": "execute_result",
          "data": {
            "text/plain": [
              "Index(['Country', 'Year', 'Life expectancy at birth (years)', 'GDP'], dtype='object')"
            ]
          },
          "metadata": {},
          "execution_count": 32
        }
      ]
    },
    {
      "cell_type": "markdown",
      "metadata": {
        "id": "nGbHz74YYavL"
      },
      "source": [
        "Life expectancy at birth (years) for a column name is too wordy (and slightly mobid, I will change this to Longevity."
      ]
    },
    {
      "cell_type": "code",
      "metadata": {
        "colab": {
          "base_uri": "https://localhost:8080/",
          "height": 204
        },
        "id": "o4gljpvDYZni",
        "outputId": "f95864b4-b460-4e32-b22b-191e0723852f"
      },
      "source": [
        "df.rename({'Life expectancy at birth (years)': 'Longevity'}, axis=1, inplace=True)\n",
        "\n",
        "df.tail()"
      ],
      "execution_count": 33,
      "outputs": [
        {
          "output_type": "execute_result",
          "data": {
            "text/html": [
              "<div>\n",
              "<style scoped>\n",
              "    .dataframe tbody tr th:only-of-type {\n",
              "        vertical-align: middle;\n",
              "    }\n",
              "\n",
              "    .dataframe tbody tr th {\n",
              "        vertical-align: top;\n",
              "    }\n",
              "\n",
              "    .dataframe thead th {\n",
              "        text-align: right;\n",
              "    }\n",
              "</style>\n",
              "<table border=\"1\" class=\"dataframe\">\n",
              "  <thead>\n",
              "    <tr style=\"text-align: right;\">\n",
              "      <th></th>\n",
              "      <th>Country</th>\n",
              "      <th>Year</th>\n",
              "      <th>Longevity</th>\n",
              "      <th>GDP</th>\n",
              "    </tr>\n",
              "  </thead>\n",
              "  <tbody>\n",
              "    <tr>\n",
              "      <th>91</th>\n",
              "      <td>Zimbabwe</td>\n",
              "      <td>2011</td>\n",
              "      <td>54.90000</td>\n",
              "      <td>12098450749.00000</td>\n",
              "    </tr>\n",
              "    <tr>\n",
              "      <th>92</th>\n",
              "      <td>Zimbabwe</td>\n",
              "      <td>2012</td>\n",
              "      <td>56.60000</td>\n",
              "      <td>14242490252.00000</td>\n",
              "    </tr>\n",
              "    <tr>\n",
              "      <th>93</th>\n",
              "      <td>Zimbabwe</td>\n",
              "      <td>2013</td>\n",
              "      <td>58.00000</td>\n",
              "      <td>15451768659.00000</td>\n",
              "    </tr>\n",
              "    <tr>\n",
              "      <th>94</th>\n",
              "      <td>Zimbabwe</td>\n",
              "      <td>2014</td>\n",
              "      <td>59.20000</td>\n",
              "      <td>15891049236.00000</td>\n",
              "    </tr>\n",
              "    <tr>\n",
              "      <th>95</th>\n",
              "      <td>Zimbabwe</td>\n",
              "      <td>2015</td>\n",
              "      <td>60.70000</td>\n",
              "      <td>16304667807.00000</td>\n",
              "    </tr>\n",
              "  </tbody>\n",
              "</table>\n",
              "</div>"
            ],
            "text/plain": [
              "     Country  Year  Longevity               GDP\n",
              "91  Zimbabwe  2011   54.90000 12098450749.00000\n",
              "92  Zimbabwe  2012   56.60000 14242490252.00000\n",
              "93  Zimbabwe  2013   58.00000 15451768659.00000\n",
              "94  Zimbabwe  2014   59.20000 15891049236.00000\n",
              "95  Zimbabwe  2015   60.70000 16304667807.00000"
            ]
          },
          "metadata": {},
          "execution_count": 33
        }
      ]
    },
    {
      "cell_type": "code",
      "metadata": {
        "colab": {
          "base_uri": "https://localhost:8080/"
        },
        "id": "D6mDloLR40_n",
        "outputId": "449182e9-34a5-410a-a42a-e4506ca3e75f"
      },
      "source": [
        "df.info()"
      ],
      "execution_count": 4,
      "outputs": [
        {
          "output_type": "stream",
          "text": [
            "<class 'pandas.core.frame.DataFrame'>\n",
            "RangeIndex: 96 entries, 0 to 95\n",
            "Data columns (total 4 columns):\n",
            " #   Column                            Non-Null Count  Dtype  \n",
            "---  ------                            --------------  -----  \n",
            " 0   Country                           96 non-null     object \n",
            " 1   Year                              96 non-null     int64  \n",
            " 2   Life expectancy at birth (years)  96 non-null     float64\n",
            " 3   GDP                               96 non-null     float64\n",
            "dtypes: float64(2), int64(1), object(1)\n",
            "memory usage: 3.1+ KB\n"
          ],
          "name": "stdout"
        }
      ]
    },
    {
      "cell_type": "code",
      "metadata": {
        "colab": {
          "base_uri": "https://localhost:8080/",
          "height": 297
        },
        "id": "ZVCZMVSn45_S",
        "outputId": "4e699459-90b5-49d5-8697-521c78b00497"
      },
      "source": [
        "df.describe()"
      ],
      "execution_count": 5,
      "outputs": [
        {
          "output_type": "execute_result",
          "data": {
            "text/html": [
              "<div>\n",
              "<style scoped>\n",
              "    .dataframe tbody tr th:only-of-type {\n",
              "        vertical-align: middle;\n",
              "    }\n",
              "\n",
              "    .dataframe tbody tr th {\n",
              "        vertical-align: top;\n",
              "    }\n",
              "\n",
              "    .dataframe thead th {\n",
              "        text-align: right;\n",
              "    }\n",
              "</style>\n",
              "<table border=\"1\" class=\"dataframe\">\n",
              "  <thead>\n",
              "    <tr style=\"text-align: right;\">\n",
              "      <th></th>\n",
              "      <th>Year</th>\n",
              "      <th>Life expectancy at birth (years)</th>\n",
              "      <th>GDP</th>\n",
              "    </tr>\n",
              "  </thead>\n",
              "  <tbody>\n",
              "    <tr>\n",
              "      <th>count</th>\n",
              "      <td>96.00000</td>\n",
              "      <td>96.00000</td>\n",
              "      <td>96.00000</td>\n",
              "    </tr>\n",
              "    <tr>\n",
              "      <th>mean</th>\n",
              "      <td>2007.50000</td>\n",
              "      <td>72.78958</td>\n",
              "      <td>3880498570768.39600</td>\n",
              "    </tr>\n",
              "    <tr>\n",
              "      <th>std</th>\n",
              "      <td>4.63397</td>\n",
              "      <td>10.67288</td>\n",
              "      <td>5197561310975.91699</td>\n",
              "    </tr>\n",
              "    <tr>\n",
              "      <th>min</th>\n",
              "      <td>2000.00000</td>\n",
              "      <td>44.30000</td>\n",
              "      <td>4415702800.00000</td>\n",
              "    </tr>\n",
              "    <tr>\n",
              "      <th>25%</th>\n",
              "      <td>2003.75000</td>\n",
              "      <td>74.47500</td>\n",
              "      <td>173301750000.00000</td>\n",
              "    </tr>\n",
              "    <tr>\n",
              "      <th>50%</th>\n",
              "      <td>2007.50000</td>\n",
              "      <td>76.75000</td>\n",
              "      <td>1280220000000.00000</td>\n",
              "    </tr>\n",
              "    <tr>\n",
              "      <th>75%</th>\n",
              "      <td>2011.25000</td>\n",
              "      <td>78.90000</td>\n",
              "      <td>4067510000000.00000</td>\n",
              "    </tr>\n",
              "    <tr>\n",
              "      <th>max</th>\n",
              "      <td>2015.00000</td>\n",
              "      <td>81.00000</td>\n",
              "      <td>18100000000000.00000</td>\n",
              "    </tr>\n",
              "  </tbody>\n",
              "</table>\n",
              "</div>"
            ],
            "text/plain": [
              "            Year  Life expectancy at birth (years)                  GDP\n",
              "count   96.00000                          96.00000             96.00000\n",
              "mean  2007.50000                          72.78958  3880498570768.39600\n",
              "std      4.63397                          10.67288  5197561310975.91699\n",
              "min   2000.00000                          44.30000     4415702800.00000\n",
              "25%   2003.75000                          74.47500   173301750000.00000\n",
              "50%   2007.50000                          76.75000  1280220000000.00000\n",
              "75%   2011.25000                          78.90000  4067510000000.00000\n",
              "max   2015.00000                          81.00000 18100000000000.00000"
            ]
          },
          "metadata": {},
          "execution_count": 5
        }
      ]
    },
    {
      "cell_type": "code",
      "metadata": {
        "colab": {
          "base_uri": "https://localhost:8080/"
        },
        "id": "sjQxpb0jirxD",
        "outputId": "b44b3dca-3787-4e0d-b29b-973c2d2a98bb"
      },
      "source": [
        "df.Country.unique()"
      ],
      "execution_count": 6,
      "outputs": [
        {
          "output_type": "execute_result",
          "data": {
            "text/plain": [
              "array(['Chile', 'China', 'Germany', 'Mexico', 'United States of America',\n",
              "       'Zimbabwe'], dtype=object)"
            ]
          },
          "metadata": {},
          "execution_count": 6
        }
      ]
    },
    {
      "cell_type": "code",
      "metadata": {
        "colab": {
          "base_uri": "https://localhost:8080/"
        },
        "id": "oII32GwPc3EW",
        "outputId": "c90eb83a-ae7d-4dde-b366-492ce2066c3f"
      },
      "source": [
        "df.Country.describe()"
      ],
      "execution_count": 44,
      "outputs": [
        {
          "output_type": "execute_result",
          "data": {
            "text/plain": [
              "count          96\n",
              "unique          6\n",
              "top       Germany\n",
              "freq           16\n",
              "Name: Country, dtype: object"
            ]
          },
          "metadata": {},
          "execution_count": 44
        }
      ]
    },
    {
      "cell_type": "code",
      "metadata": {
        "colab": {
          "base_uri": "https://localhost:8080/",
          "height": 335
        },
        "id": "iXEenCqSjpNL",
        "outputId": "96a3c994-051b-4e4a-86d9-8d87091815a7"
      },
      "source": [
        "sns.set()\n",
        "\n",
        "\n",
        "plt.bar(df.Country, df['Life expectancy at birth (years)'])\n",
        "plt.tight_layout()\n",
        "plt.xticks(rotation = (20), fontsize = 10)\n",
        "plt.show()"
      ],
      "execution_count": 7,
      "outputs": [
        {
          "output_type": "display_data",
          "data": {
            "image/png": "[encoded data removed]",
            "text/plain": [
              "<Figure size 432x288 with 1 Axes>"
            ]
          },
          "metadata": {}
        }
      ]
    },
    {
      "cell_type": "code",
      "metadata": {
        "colab": {
          "base_uri": "https://localhost:8080/",
          "height": 321
        },
        "id": "BOWRmFZJmTER",
        "outputId": "1076a713-7722-4770-a43c-ef6726fbcf46"
      },
      "source": [
        "plt.bar(df.Country, df.GDP)\n",
        "plt.xticks(rotation = (20), fontsize = 10)\n",
        "plt.show()"
      ],
      "execution_count": 8,
      "outputs": [
        {
          "output_type": "display_data",
          "data": {
            "image/png": "[encoded data removed]",
            "text/plain": [
              "<Figure size 432x288 with 1 Axes>"
            ]
          },
          "metadata": {}
        }
      ]
    },
    {
      "cell_type": "code",
      "metadata": {
        "colab": {
          "base_uri": "https://localhost:8080/",
          "height": 493
        },
        "id": "sO41rMgMmnIS",
        "outputId": "0c317924-0584-4269-ee77-a434957f80d5"
      },
      "source": [
        "print(df.groupby('Country').GDP.mean())\n",
        "\n",
        "country_mean = df.groupby('Country').GDP.mean()\n",
        "\n",
        "plt.bar(df.Country.unique(), country_mean)\n",
        "plt.xticks(rotation = (40), fontsize = 10)\n",
        "plt.show()"
      ],
      "execution_count": 9,
      "outputs": [
        {
          "output_type": "stream",
          "text": [
            "Country\n",
            "Chile                        169788845015.31250\n",
            "China                       4957713750000.00000\n",
            "Germany                     3094775625000.00000\n",
            "Mexico                       976650625000.00000\n",
            "United States of America   14075000000000.00000\n",
            "Zimbabwe                       9062579595.06250\n",
            "Name: GDP, dtype: float64\n"
          ],
          "name": "stdout"
        },
        {
          "output_type": "display_data",
          "data": {
            "image/png": "[encoded data removed]",
            "text/plain": [
              "<Figure size 432x288 with 1 Axes>"
            ]
          },
          "metadata": {}
        }
      ]
    },
    {
      "cell_type": "code",
      "metadata": {
        "colab": {
          "base_uri": "https://localhost:8080/",
          "height": 292
        },
        "id": "MD74xWOTvCuH",
        "outputId": "d5f7b3f4-efab-4655-88a6-a61fc6f7a0ef"
      },
      "source": [
        "plt.clf()\n",
        "plt.hist(df.GDP[df.Country == 'Chile'], label='Chile', alpha=0.5, density=True)\n",
        "plt.hist(df.GDP[df.Country == 'China'], label='China', alpha=0.5, density=True)\n",
        "plt.hist(df.GDP[df.Country == 'Germany'], label='Germany', alpha=0.5, density=True)\n",
        "plt.hist(df.GDP[df.Country == 'Mexico'], label='Mexico', alpha=0.5, density=True)\n",
        "plt.hist(df.GDP[df.Country == 'United States of America'], label='United States of America', alpha=0.5, density=True)\n",
        "plt.hist(df.GDP[df.Country == 'Zimbabwe'], label='Zimbabwe', alpha=0.5, density=True)\n",
        "plt.legend()\n",
        "plt.show()"
      ],
      "execution_count": 10,
      "outputs": [
        {
          "output_type": "display_data",
          "data": {
            "image/png": "[encoded data removed]",
            "text/plain": [
              "<Figure size 432x288 with 1 Axes>"
            ]
          },
          "metadata": {}
        }
      ]
    }
  ]
}