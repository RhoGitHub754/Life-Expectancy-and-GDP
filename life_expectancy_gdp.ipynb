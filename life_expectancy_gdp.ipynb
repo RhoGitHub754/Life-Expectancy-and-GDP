{
  "nbformat": 4,
  "nbformat_minor": 0,
  "metadata": {
    "kernelspec": {
      "display_name": "Python 3",
      "language": "python",
      "name": "python3"
    },
    "language_info": {
      "codemirror_mode": {
        "name": "ipython",
        "version": 3
      },
      "file_extension": ".py",
      "mimetype": "text/x-python",
      "name": "python",
      "nbconvert_exporter": "python",
      "pygments_lexer": "ipython3",
      "version": "3.7.6"
    },
    "colab": {
      "name": "life_expectancy_gdp.ipynb",
      "provenance": [],
      "collapsed_sections": []
    }
  },
  "cells": [
    {
      "cell_type": "markdown",
      "metadata": {
        "id": "97w7xm8y2aNP"
      },
      "source": [
        "# Life Expectancy and GDP\n",
        "\n",
        "\n",
        "---\n",
        "\n",
        "\n",
        "\n"
      ]
    },
    {
      "cell_type": "code",
      "metadata": {
        "colab": {
          "base_uri": "https://localhost:8080/"
        },
        "id": "c0ycTJlj15kn",
        "outputId": "9bbd2f29-29ab-4bb9-d525-22a4799e24c1"
      },
      "source": [
        "from google.colab import drive\n",
        "drive.mount('/content/drive')"
      ],
      "execution_count": 1,
      "outputs": [
        {
          "output_type": "stream",
          "text": [
            "Mounted at /content/drive\n"
          ],
          "name": "stdout"
        }
      ]
    },
    {
      "cell_type": "code",
      "metadata": {
        "id": "gIOkXxtO1Wdk"
      },
      "source": [
        "import pandas as pd"
      ],
      "execution_count": 2,
      "outputs": []
    },
    {
      "cell_type": "markdown",
      "metadata": {
        "id": "BG6IXY2U3C2j"
      },
      "source": [
        "## Load the Data\n",
        "You have been given one CSV file, all_data.csv which contains data on GDP and life expectancy within different countries.\n",
        "\n",
        "Open all_data.csv with pandas.\n",
        "\n",
        "The dataset provided has the following columns of data:\n",
        "\n",
        "**Country** - nation\n",
        "\n",
        "**Year** - the year for the observation\n",
        "\n",
        "**Life** expectancy at birth (years) - life expectancy value in years\n",
        "\n",
        "**GDP** - Gross Domestic Product in U.S. dollars"
      ]
    },
    {
      "cell_type": "code",
      "metadata": {
        "colab": {
          "base_uri": "https://localhost:8080/",
          "height": 204
        },
        "id": "agpWyBhz3CKH",
        "outputId": "1a99aac2-f180-495b-c554-1eb0a188e5ed"
      },
      "source": [
        "df = pd.read_csv('/content/drive/MyDrive/Colab Notebooks/Codecademy - Data Analyst Portfolio/Life-Expectancy-and-GDP-Starter/all_data.csv')\n",
        "df.head()"
      ],
      "execution_count": 3,
      "outputs": [
        {
          "output_type": "execute_result",
          "data": {
            "text/html": [
              "<div>\n",
              "<style scoped>\n",
              "    .dataframe tbody tr th:only-of-type {\n",
              "        vertical-align: middle;\n",
              "    }\n",
              "\n",
              "    .dataframe tbody tr th {\n",
              "        vertical-align: top;\n",
              "    }\n",
              "\n",
              "    .dataframe thead th {\n",
              "        text-align: right;\n",
              "    }\n",
              "</style>\n",
              "<table border=\"1\" class=\"dataframe\">\n",
              "  <thead>\n",
              "    <tr style=\"text-align: right;\">\n",
              "      <th></th>\n",
              "      <th>Country</th>\n",
              "      <th>Year</th>\n",
              "      <th>Life expectancy at birth (years)</th>\n",
              "      <th>GDP</th>\n",
              "    </tr>\n",
              "  </thead>\n",
              "  <tbody>\n",
              "    <tr>\n",
              "      <th>0</th>\n",
              "      <td>Chile</td>\n",
              "      <td>2000</td>\n",
              "      <td>77.3</td>\n",
              "      <td>7.786093e+10</td>\n",
              "    </tr>\n",
              "    <tr>\n",
              "      <th>1</th>\n",
              "      <td>Chile</td>\n",
              "      <td>2001</td>\n",
              "      <td>77.3</td>\n",
              "      <td>7.097992e+10</td>\n",
              "    </tr>\n",
              "    <tr>\n",
              "      <th>2</th>\n",
              "      <td>Chile</td>\n",
              "      <td>2002</td>\n",
              "      <td>77.8</td>\n",
              "      <td>6.973681e+10</td>\n",
              "    </tr>\n",
              "    <tr>\n",
              "      <th>3</th>\n",
              "      <td>Chile</td>\n",
              "      <td>2003</td>\n",
              "      <td>77.9</td>\n",
              "      <td>7.564346e+10</td>\n",
              "    </tr>\n",
              "    <tr>\n",
              "      <th>4</th>\n",
              "      <td>Chile</td>\n",
              "      <td>2004</td>\n",
              "      <td>78.0</td>\n",
              "      <td>9.921039e+10</td>\n",
              "    </tr>\n",
              "  </tbody>\n",
              "</table>\n",
              "</div>"
            ],
            "text/plain": [
              "  Country  Year  Life expectancy at birth (years)           GDP\n",
              "0   Chile  2000                              77.3  7.786093e+10\n",
              "1   Chile  2001                              77.3  7.097992e+10\n",
              "2   Chile  2002                              77.8  6.973681e+10\n",
              "3   Chile  2003                              77.9  7.564346e+10\n",
              "4   Chile  2004                              78.0  9.921039e+10"
            ]
          },
          "metadata": {},
          "execution_count": 3
        }
      ]
    },
    {
      "cell_type": "code",
      "metadata": {
        "colab": {
          "base_uri": "https://localhost:8080/"
        },
        "id": "D6mDloLR40_n",
        "outputId": "63bd484d-bc35-499d-ba30-4b4d5f810330"
      },
      "source": [
        "df.info()"
      ],
      "execution_count": 4,
      "outputs": [
        {
          "output_type": "stream",
          "text": [
            "<class 'pandas.core.frame.DataFrame'>\n",
            "RangeIndex: 96 entries, 0 to 95\n",
            "Data columns (total 4 columns):\n",
            " #   Column                            Non-Null Count  Dtype  \n",
            "---  ------                            --------------  -----  \n",
            " 0   Country                           96 non-null     object \n",
            " 1   Year                              96 non-null     int64  \n",
            " 2   Life expectancy at birth (years)  96 non-null     float64\n",
            " 3   GDP                               96 non-null     float64\n",
            "dtypes: float64(2), int64(1), object(1)\n",
            "memory usage: 3.1+ KB\n"
          ],
          "name": "stdout"
        }
      ]
    },
    {
      "cell_type": "code",
      "metadata": {
        "colab": {
          "base_uri": "https://localhost:8080/",
          "height": 297
        },
        "id": "ZVCZMVSn45_S",
        "outputId": "7c856178-f158-46e7-8899-0ea4bf30bf98"
      },
      "source": [
        "df.describe()"
      ],
      "execution_count": 9,
      "outputs": [
        {
          "output_type": "execute_result",
          "data": {
            "text/html": [
              "<div>\n",
              "<style scoped>\n",
              "    .dataframe tbody tr th:only-of-type {\n",
              "        vertical-align: middle;\n",
              "    }\n",
              "\n",
              "    .dataframe tbody tr th {\n",
              "        vertical-align: top;\n",
              "    }\n",
              "\n",
              "    .dataframe thead th {\n",
              "        text-align: right;\n",
              "    }\n",
              "</style>\n",
              "<table border=\"1\" class=\"dataframe\">\n",
              "  <thead>\n",
              "    <tr style=\"text-align: right;\">\n",
              "      <th></th>\n",
              "      <th>Year</th>\n",
              "      <th>Life expectancy at birth (years)</th>\n",
              "      <th>GDP</th>\n",
              "    </tr>\n",
              "  </thead>\n",
              "  <tbody>\n",
              "    <tr>\n",
              "      <th>count</th>\n",
              "      <td>96.000000</td>\n",
              "      <td>96.000000</td>\n",
              "      <td>9.600000e+01</td>\n",
              "    </tr>\n",
              "    <tr>\n",
              "      <th>mean</th>\n",
              "      <td>2007.500000</td>\n",
              "      <td>72.789583</td>\n",
              "      <td>3.880499e+12</td>\n",
              "    </tr>\n",
              "    <tr>\n",
              "      <th>std</th>\n",
              "      <td>4.633971</td>\n",
              "      <td>10.672882</td>\n",
              "      <td>5.197561e+12</td>\n",
              "    </tr>\n",
              "    <tr>\n",
              "      <th>min</th>\n",
              "      <td>2000.000000</td>\n",
              "      <td>44.300000</td>\n",
              "      <td>4.415703e+09</td>\n",
              "    </tr>\n",
              "    <tr>\n",
              "      <th>25%</th>\n",
              "      <td>2003.750000</td>\n",
              "      <td>74.475000</td>\n",
              "      <td>1.733018e+11</td>\n",
              "    </tr>\n",
              "    <tr>\n",
              "      <th>50%</th>\n",
              "      <td>2007.500000</td>\n",
              "      <td>76.750000</td>\n",
              "      <td>1.280220e+12</td>\n",
              "    </tr>\n",
              "    <tr>\n",
              "      <th>75%</th>\n",
              "      <td>2011.250000</td>\n",
              "      <td>78.900000</td>\n",
              "      <td>4.067510e+12</td>\n",
              "    </tr>\n",
              "    <tr>\n",
              "      <th>max</th>\n",
              "      <td>2015.000000</td>\n",
              "      <td>81.000000</td>\n",
              "      <td>1.810000e+13</td>\n",
              "    </tr>\n",
              "  </tbody>\n",
              "</table>\n",
              "</div>"
            ],
            "text/plain": [
              "              Year  Life expectancy at birth (years)           GDP\n",
              "count    96.000000                         96.000000  9.600000e+01\n",
              "mean   2007.500000                         72.789583  3.880499e+12\n",
              "std       4.633971                         10.672882  5.197561e+12\n",
              "min    2000.000000                         44.300000  4.415703e+09\n",
              "25%    2003.750000                         74.475000  1.733018e+11\n",
              "50%    2007.500000                         76.750000  1.280220e+12\n",
              "75%    2011.250000                         78.900000  4.067510e+12\n",
              "max    2015.000000                         81.000000  1.810000e+13"
            ]
          },
          "metadata": {},
          "execution_count": 9
        }
      ]
    }
  ]
}